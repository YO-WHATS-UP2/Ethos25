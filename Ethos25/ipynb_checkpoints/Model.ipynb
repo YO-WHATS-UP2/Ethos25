{
  "cells": [
    {
      "cell_type": "markdown",
      "metadata": {},
      "source": [
        "#Data provided at Product Dataset"
      ]
    },
    {
      "cell_type": "code",
      "execution_count": 1,
      "metadata": {
        "colab": {
          "base_uri": "https://localhost:8080/"
        },
        "id": "wF8Fcw0dA0i9",
        "outputId": "01d23469-3dd4-4091-b5dc-2a5d08ab9413"
      },
      "outputs": [
        {
          "name": "stdout",
          "output_type": "stream",
          "text": [
            "Mounted at /content/drive\n"
          ]
        }
      ],
      "source": [
        "from google.colab import drive\n",
        "drive.mount('/content/drive')"
      ]
    },
    {
      "cell_type": "code",
      "execution_count": 2,
      "metadata": {
        "id": "cElaK8-5BF6c"
      },
      "outputs": [],
      "source": [
        "import pandas as pd\n",
        "import numpy as np\n",
        "import ast\n",
        "import re # For simple Regex-based NER\n",
        "\n",
        "# 🚨 UPDATE THIS PATH TO YOUR GOOGLE DRIVE FOLDER 🚨\n",
        "BASE_PATH = \"/content/drive/MyDrive/\"\n",
        "\n",
        "# --- Load Profiles and Define Canonical ID ---\n",
        "df_profiles = pd.read_csv(BASE_PATH + \"student or staff profiles.csv\")\n",
        "df_profiles['Entity_ID'] = df_profiles['entity_id']\n",
        "\n",
        "# Create UNIQUE Profile subset for merging (contains all ID columns for initial merge)\n",
        "profile_cols_to_keep = ['Entity_ID', 'name', 'role', 'department', 'email',\n",
        "                        'student_id', 'staff_id', 'card_id', 'device_hash', 'face_id']\n",
        "df_profiles_unique = df_profiles[profile_cols_to_keep].drop_duplicates(subset=['Entity_ID']).copy()\n",
        "\n",
        "\n",
        "# --- Define Mapping Dictionaries ---\n",
        "card_to_entity = df_profiles.set_index('card_id')['Entity_ID'].to_dict()\n",
        "device_to_entity = df_profiles.set_index('device_hash')['Entity_ID'].to_dict()\n",
        "face_to_entity = df_profiles.set_index('face_id')['Entity_ID'].to_dict()\n",
        "student_to_entity = df_profiles.set_index('student_id')['Entity_ID'].to_dict()\n",
        "\n",
        "\n",
        "# --- Define Standardizing Function for ID Lookup Logs ---\n",
        "def standardize_log(file_path, id_col_name, mapping_dict, event_type, location_col_name, ts_col_name):\n",
        "    \"\"\"Loads, maps IDs, and standardizes columns for files needing ID lookup.\"\"\"\n",
        "    df = pd.read_csv(file_path)\n",
        "\n",
        "    # 1. Add Canonical Entity ID\n",
        "    df['Entity_ID'] = df[id_col_name].map(mapping_dict)\n",
        "    df['Entity_ID'] = df['Entity_ID'].fillna('UNKNOWN')\n",
        "\n",
        "    # 2. Standardize Event Type, Location, and Timestamp\n",
        "    df['Event_Type'] = event_type\n",
        "    df = df.rename(columns={location_col_name: 'Location_Code'})\n",
        "    df['Timestamp'] = pd.to_datetime(df[ts_col_name], errors='coerce')\n",
        "\n",
        "    # Select required columns (Note: 'text' column will be added later by concat/fill)\n",
        "    return df[['Entity_ID', 'Timestamp', 'Event_Type', 'Location_Code']]"
      ]
    },
    {
      "cell_type": "code",
      "execution_count": 3,
      "metadata": {
        "id": "XmX02lZHBLXb"
      },
      "outputs": [],
      "source": [
        "processed_logs = []\n",
        "\n",
        "# --- Custom Function for FXXXXX to EXXXXX Conversion ---\n",
        "def map_face_to_entity(face_id):\n",
        "    \"\"\"Converts F1XXXXX to E1XXXXX or returns UNKNOWN if face_id is missing/blank.\"\"\"\n",
        "    if pd.isna(face_id) or face_id == '':\n",
        "        return 'UNKNOWN'\n",
        "    # Use string replace to convert F1XXXXX to E1XXXXX\n",
        "    return str(face_id).replace('F', 'E')\n",
        "\n",
        "\n",
        "# --- 1. Campus Card Swipes (ID Lookup: card_id) ---\n",
        "df_swipes = standardize_log(\n",
        "    file_path=BASE_PATH + \"campus card_swipes.csv\", id_col_name=\"card_id\", mapping_dict=card_to_entity,\n",
        "    event_type=\"Card_Swipe\", location_col_name=\"location_id\", ts_col_name=\"timestamp\"\n",
        ")\n",
        "processed_logs.append(df_swipes)\n",
        "\n",
        "\n",
        "# --- 2. Wi-Fi Associations Logs (ID Lookup: device_hash) ---\n",
        "df_wifi = standardize_log(\n",
        "    file_path=BASE_PATH + \"wifi_associations_logs.csv\", id_col_name=\"device_hash\", mapping_dict=device_to_entity,\n",
        "    event_type=\"WiFi_Connect\", location_col_name=\"ap_id\", ts_col_name=\"timestamp\"\n",
        ")\n",
        "processed_logs.append(df_wifi)\n",
        "\n",
        "\n",
        "# --- 3. CCTV Frames (Custom Logic Applied) ---\n",
        "CCTV_FILE_PATH = BASE_PATH + \"cctv_frames.csv\"\n",
        "df_cctv_raw = pd.read_csv(CCTV_FILE_PATH)\n",
        "\n",
        "# Apply the custom mapping function to create the Entity_ID column\n",
        "df_cctv_raw['Entity_ID'] = df_cctv_raw['face_id'].apply(map_face_to_entity)\n",
        "\n",
        "# Standardize remaining columns\n",
        "df_cctv_raw = df_cctv_raw.rename(columns={'location_id': 'Location_Code', 'timestamp': 'Timestamp'})\n",
        "df_cctv_raw['Event_Type'] = 'CCTV_Detection'\n",
        "df_cctv_raw['Timestamp'] = pd.to_datetime(df_cctv_raw['Timestamp'], errors='coerce')\n",
        "\n",
        "df_cctv_processed = df_cctv_raw[['Entity_ID', 'Timestamp', 'Event_Type', 'Location_Code']]\n",
        "processed_logs.append(df_cctv_processed)\n",
        "\n",
        "\n",
        "# --- 4. Library Checkouts (Pre-linked by entity_id - FIX for missing location) ---\n",
        "df_lib = pd.read_csv(BASE_PATH + \"library_checkouts.csv\")\n",
        "df_lib = df_lib.rename(columns={'entity_id': 'Entity_ID', 'timestamp': 'Timestamp'})\n",
        "df_lib['Location_Code'] = 'LIBRARY_BUILDING'\n",
        "df_lib['Event_Type'] = 'Library_Checkout_Book_' + df_lib['book_id'].astype(str)\n",
        "df_lib['Timestamp'] = pd.to_datetime(df_lib['Timestamp'], errors='coerce')\n",
        "df_lib_processed = df_lib[['Entity_ID', 'Timestamp', 'Event_Type', 'Location_Code']]\n",
        "processed_logs.append(df_lib_processed)\n",
        "\n",
        "\n",
        "# --- 5. Lab Bookings (Pre-linked by entity_id) ---\n",
        "CORRECT_ATTENDED_COL = 'attended (YES/NO)'\n",
        "df_lab = pd.read_csv(BASE_PATH + \"lab_bookings.csv\")\n",
        "df_lab = df_lab.rename(columns={'entity_id': 'Entity_ID', 'room_id': 'Location_Code', 'start_time': 'Timestamp'})\n",
        "df_lab['Timestamp'] = pd.to_datetime(df_lab['Timestamp'], errors='coerce')\n",
        "df_lab['Event_Type'] = 'Lab_Booking_' + df_lab[CORRECT_ATTENDED_COL].astype(str)\n",
        "df_lab_processed = df_lab[['Entity_ID', 'Timestamp', 'Event_Type', 'Location_Code']]\n",
        "processed_logs.append(df_lab_processed)\n",
        "\n",
        "\n",
        "# --- 6. Free Text Notes (Pre-linked by entity_id) ---\n",
        "df_notes = pd.read_csv(BASE_PATH + \"free_text_notes (helpdesk or RSVPs).csv\")\n",
        "df_notes = df_notes.rename(columns={'entity_id': 'Entity_ID', 'timestamp': 'Timestamp'})\n",
        "df_notes['Location_Code'] = 'NON_PHYSICAL_EVENT'\n",
        "df_notes['Event_Type'] = 'Note_' + df_notes['category'].astype(str)\n",
        "df_notes['Timestamp'] = pd.to_datetime(df_notes['Timestamp'], errors='coerce')\n",
        "df_notes_processed = df_notes[['Entity_ID', 'Timestamp', 'Event_Type', 'Location_Code', 'text']]\n",
        "processed_logs.append(df_notes_processed)\n",
        "\n",
        "# --- Initial Concatenation ---\n",
        "df_master_log = pd.concat(processed_logs, ignore_index=True)\n",
        "df_master_log = df_master_log.dropna(subset=['Timestamp'])"
      ]
    },
    {
      "cell_type": "code",
      "execution_count": 4,
      "metadata": {
        "colab": {
          "base_uri": "https://localhost:8080/"
        },
        "id": "SABCIbUbPAnb",
        "outputId": "b0c92ce5-713d-4502-faf4-ca284147cfbb"
      },
      "outputs": [
        {
          "name": "stdout",
          "output_type": "stream",
          "text": [
            "--- Starting Proximity Linking for UNKNOWN CCTV Events ---\n",
            "Successfully linked 997 UNKNOWN events to known entities.\n",
            "--- Proximity Linking Complete. The master log is now enriched. ---\n"
          ]
        }
      ],
      "source": [
        "# --- STRATEGY: Enrich Dataset with Proximity Linking ---\n",
        "print(\"--- Starting Proximity Linking for UNKNOWN CCTV Events ---\")\n",
        "\n",
        "# Ensure Timestamp is a datetime object for accurate calculations\n",
        "df_master_log['Timestamp'] = pd.to_datetime(df_master_log['Timestamp'])\n",
        "\n",
        "# 1. Isolate known and unknown events from the master log\n",
        "df_identified = df_master_log[df_master_log['Entity_ID'] != 'UNKNOWN'].copy()\n",
        "df_unknown = df_master_log[(df_master_log['Entity_ID'] == 'UNKNOWN') & (df_master_log['Event_Type'] == 'CCTV_Detection')].copy()\n",
        "\n",
        "# Sort by timestamp for efficient merging\n",
        "df_identified = df_identified.sort_values('Timestamp')\n",
        "df_unknown = df_unknown.sort_values('Timestamp')\n",
        "\n",
        "# 2. Use pd.merge_asof to find the nearest known person at the same location within a 5-minute window\n",
        "# This is a highly efficient way to perform this time-based search.\n",
        "linked_df = pd.merge_asof(\n",
        "    df_unknown,\n",
        "    df_identified,\n",
        "    on='Timestamp',\n",
        "    by='Location_Code',\n",
        "    direction='nearest',\n",
        "    tolerance=pd.Timedelta(minutes=5) # The time window can be adjusted\n",
        ")\n",
        "\n",
        "# 3. Filter for successful links and prepare them for concatenation\n",
        "successful_links = linked_df.dropna(subset=['Entity_ID_y'])\n",
        "newly_identified_events = successful_links[['Entity_ID_y', 'Timestamp', 'Event_Type_x', 'Location_Code']]\n",
        "newly_identified_events = newly_identified_events.rename(columns={\n",
        "    'Entity_ID_y': 'Entity_ID',\n",
        "    'Event_Type_x': 'Event_Type'\n",
        "})\n",
        "\n",
        "print(f\"Successfully linked {len(newly_identified_events)} UNKNOWN events to known entities.\")\n",
        "\n",
        "# 4. Create the final, enriched master log\n",
        "# IMPORTANT: Use this 'df_master_log_enriched' for all subsequent steps\n",
        "df_master_log_enriched = pd.concat([df_master_log, newly_identified_events], ignore_index=True)\n",
        "\n",
        "# Clean up by removing original UNKNOWN CCTV events to avoid duplication\n",
        "df_master_log_enriched = df_master_log_enriched[~((df_master_log_enriched['Entity_ID'] == 'UNKNOWN') & (df_master_log_enriched['Event_Type'] == 'CCTV_Detection'))]\n",
        "\n",
        "print(\"--- Proximity Linking Complete. The master log is now enriched. ---\")\n",
        "\n",
        "# From this point on, use 'df_master_log_enriched' to create your 'df_comprehensive_log'\n",
        "# For example: df_comprehensive_log = pd.merge(df_master_log_enriched, ...)"
      ]
    },
    {
      "cell_type": "code",
      "execution_count": 5,
      "metadata": {
        "colab": {
          "base_uri": "https://localhost:8080/"
        },
        "id": "OL_9-_KjBPeI",
        "outputId": "3b11d39f-40b7-4817-df5c-dbaa98b14d2c"
      },
      "outputs": [
        {
          "name": "stdout",
          "output_type": "stream",
          "text": [
            "--- FINAL CLEANED ML LOG ---\n",
            "Total rows: 42210\n",
            "Final Columns: ['Entity_ID', 'Timestamp', 'Event_Type', 'Location_Code', 'text', 'name', 'role', 'department', 'email']\n",
            "  Entity_ID           Timestamp       Event_Type Location_Code text  \\\n",
            "0   E100000 2025-08-29 07:41:18       Card_Swipe   HOSTEL_GATE        \n",
            "1   E100000 2025-09-02 13:58:39       Card_Swipe       LIB_ENT        \n",
            "2   E100000 2025-09-04 02:31:00   CCTV_Detection       LAB_101        \n",
            "3   E100000 2025-09-05 06:46:02       Card_Swipe    AUDITORIUM        \n",
            "4   E100000 2025-09-10 22:12:00  Lab_Booking_YES        SEM_01        \n",
            "5   E100000 2025-09-12 19:18:02       Card_Swipe    AUDITORIUM        \n",
            "6   E100000 2025-09-19 00:36:50       Card_Swipe       LAB_101        \n",
            "7   E100000 2025-09-20 09:38:00  Lab_Booking_YES       ROOM_A2        \n",
            "8   E100001 2025-08-27 23:46:00     WiFi_Connect      AP_ENG_3        \n",
            "9   E100001 2025-08-29 19:55:00   CCTV_Detection       LIB_ENT        \n",
            "\n",
            "         name     role department             email  \n",
            "0  Neha Mehta  student      CIVIL  user0@campus.edu  \n",
            "1  Neha Mehta  student      CIVIL  user0@campus.edu  \n",
            "2  Neha Mehta  student      CIVIL  user0@campus.edu  \n",
            "3  Neha Mehta  student      CIVIL  user0@campus.edu  \n",
            "4  Neha Mehta  student      CIVIL  user0@campus.edu  \n",
            "5  Neha Mehta  student      CIVIL  user0@campus.edu  \n",
            "6  Neha Mehta  student      CIVIL  user0@campus.edu  \n",
            "7  Neha Mehta  student      CIVIL  user0@campus.edu  \n",
            "8  Neha Kumar  student    Physics  user1@campus.edu  \n",
            "9  Neha Kumar  student    Physics  user1@campus.edu  \n"
          ]
        }
      ],
      "source": [
        "# --- Merge with Profile Data (Comprehensive Log Creation) ---\n",
        "\n",
        "# 1. Ensure the merge key is correct\n",
        "df_profiles_unique = df_profiles_unique.rename(columns={'entity_id': 'Entity_ID'})\n",
        "\n",
        "# 2. Left Merge to attach static profile features\n",
        "df_comprehensive_log = pd.merge(\n",
        "    df_master_log_enriched,\n",
        "    df_profiles_unique,\n",
        "    on='Entity_ID',\n",
        "    how='left'\n",
        ")\n",
        "\n",
        "# 3. Fill UNKNOWN entities and empty text fields\n",
        "profile_fill_values = {\n",
        "    'name': 'Unknown Entity', 'role': 'Unknown', 'department': 'Unknown', 'email': 'Unknown',\n",
        "    'student_id': 'Unknown', 'staff_id': 'Unknown', 'card_id': 'Unknown',\n",
        "    'device_hash': 'Unknown', 'face_id': 'Unknown', 'text': ''\n",
        "}\n",
        "df_comprehensive_log = df_comprehensive_log.fillna(value=profile_fill_values)\n",
        "\n",
        "\n",
        "# --- Simple NER Refinement (Location Extraction from Notes) ---\n",
        "def extract_location_from_text(row):\n",
        "    \"\"\"Uses simple keyword matching to extract a location from the note text.\"\"\"\n",
        "    if not row['text']:\n",
        "        return row['Location_Code']\n",
        "\n",
        "    text = row['text'].lower()\n",
        "\n",
        "    # Define keywords/patterns for location extraction\n",
        "    if 'robotics workshop' in text or 'robotics club' in text:\n",
        "        return 'ROBOTICS_CLUB'\n",
        "    if re.search(r'\\blab\\b|\\broom\\b', text):\n",
        "        return 'LAB_AREA'\n",
        "    if 'hostel block' in text or 'hostel' in text:\n",
        "        return 'HOSTEL_AREA'\n",
        "    if 'library' in text:\n",
        "        return 'LIBRARY_BUILDING'\n",
        "    return row['Location_Code']\n",
        "\n",
        "# Apply NER function only to the rows that have text (Note events)\n",
        "df_comprehensive_log.loc[df_comprehensive_log['Event_Type'].str.startswith('Note_'),\n",
        "                         'Location_Code'] = df_comprehensive_log.loc[df_comprehensive_log['Event_Type'].str.startswith('Note_')].apply(\n",
        "    extract_location_from_text, axis=1\n",
        ")\n",
        "\n",
        "\n",
        "# --- 4. Clean Redundant IDs (Final Dataset) ---\n",
        "redundant_id_cols = ['student_id', 'staff_id', 'card_id', 'device_hash', 'face_id']\n",
        "df_clean_ml_log = df_comprehensive_log.drop(columns=redundant_id_cols)\n",
        "\n",
        "# Final sort\n",
        "df_clean_ml_log = df_clean_ml_log.sort_values(by=['Entity_ID', 'Timestamp']).reset_index(drop=True)\n",
        "\n",
        "print(\"--- FINAL CLEANED ML LOG ---\")\n",
        "print(f\"Total rows: {len(df_clean_ml_log)}\")\n",
        "print(f\"Final Columns: {df_clean_ml_log.columns.tolist()}\")\n",
        "print(df_clean_ml_log.head(10))"
      ]
    },
    {
      "cell_type": "code",
      "execution_count": 6,
      "metadata": {
        "colab": {
          "base_uri": "https://localhost:8080/"
        },
        "id": "zIUmkFT2QHsC",
        "outputId": "b18cbee3-7ad8-44fc-c970-50ea86771081"
      },
      "outputs": [
        {
          "name": "stdout",
          "output_type": "stream",
          "text": [
            "--- Generating Individual Behavioral Features ---\n",
            "Generated individual features for 6974 unique entities.\n"
          ]
        }
      ],
      "source": [
        "# --- STRATEGY: Generate Individual Behavioral Features ---\n",
        "\n",
        "# This should be run on your clean, comprehensive log before creating sequential features\n",
        "print(\"--- Generating Individual Behavioral Features ---\")\n",
        "\n",
        "df_user_features = df_clean_ml_log.groupby('Entity_ID').agg(\n",
        "    # What is this person's most frequented location?\n",
        "    User_Top_Location=('Location_Code', lambda x: x.mode()[0] if not x.mode().empty else 'UNKNOWN'),\n",
        "\n",
        "    # How many unique locations does this person visit? (A measure of routine vs. exploration)\n",
        "    User_Unique_Locations=('Location_Code', 'nunique'),\n",
        "\n",
        "    # What is the typical hour this person is active on campus?\n",
        "    User_Typical_Hour=('Timestamp', lambda x: x.dt.hour.mode()[0]),\n",
        "\n",
        "    # How many total events does this user have? (A measure of their data density)\n",
        "    User_Event_Count=('Timestamp', 'count')\n",
        ").reset_index()\n",
        "\n",
        "print(f\"Generated individual features for {len(df_user_features)} unique entities.\")\n",
        "\n",
        "# Merge these new features back into the clean log\n",
        "df_clean_ml_log = pd.merge(df_clean_ml_log, df_user_features, on='Entity_ID', how='left')"
      ]
    },
    {
      "cell_type": "code",
      "execution_count": 7,
      "metadata": {
        "colab": {
          "base_uri": "https://localhost:8080/"
        },
        "id": "Ikz1Lc1zTUyh",
        "outputId": "39cc2e0d-ec8b-4bac-8d5a-81d8f1f7dd70"
      },
      "outputs": [
        {
          "name": "stdout",
          "output_type": "stream",
          "text": [
            "--- Generating Individual Behavioral Features ---\n",
            "Generated individual features for 6974 unique entities.\n",
            "✅ 'User_Top_Location' and other individual features are now defined.\n"
          ]
        }
      ],
      "source": [
        "# --- 1. Individual Behavioral Features ---\n",
        "print(\"--- Generating Individual Behavioral Features ---\")\n",
        "\n",
        "# This code creates the 'User_Top_Location' column\n",
        "df_user_features = df_clean_ml_log.groupby('Entity_ID').agg(\n",
        "    # What is this person's most frequented location?\n",
        "    User_Top_Location=('Location_Code', lambda x: x.mode()[0] if not x.mode().empty else 'UNKNOWN'),\n",
        "\n",
        "    # How many unique locations does this person visit?\n",
        "    User_Unique_Locations=('Location_Code', 'nunique'),\n",
        "\n",
        "    # What is the typical hour this person is active?\n",
        "    User_Typical_Hour=('Timestamp', lambda x: x.dt.hour.mode()[0]),\n",
        "\n",
        "    # How many total events does this user have?\n",
        "    User_Event_Count=('Timestamp', 'count')\n",
        ").reset_index()\n",
        "\n",
        "print(f\"Generated individual features for {len(df_user_features)} unique entities.\")\n",
        "\n",
        "# Merge these new features back into the clean log\n",
        "# This step adds the 'User_Top_Location' column to df_clean_ml_log\n",
        "df_clean_ml_log = pd.merge(df_clean_ml_log, df_user_features, on='Entity_ID', how='left')\n",
        "\n",
        "print(\"✅ 'User_Top_Location' and other individual features are now defined.\")"
      ]
    },
    {
      "cell_type": "code",
      "execution_count": 8,
      "metadata": {
        "colab": {
          "base_uri": "https://localhost:8080/"
        },
        "id": "ebtmjskqT6LL",
        "outputId": "47829a75-4aa0-48d3-de04-37f8126a65d7"
      },
      "outputs": [
        {
          "name": "stdout",
          "output_type": "stream",
          "text": [
            "🚀 Starting Corrected Feature Engineering...\n",
            "✅ Individual features created and merged.\n",
            "✅ All features are now correctly in df_ml_ready.\n",
            "\n",
            "--- FINAL ML-READY DATASET ---\n",
            "  Entity_ID           Timestamp Location_Code  Last_Location  \\\n",
            "0   E100000 2025-08-29 07:41:18   HOSTEL_GATE  START_SESSION   \n",
            "1   E100000 2025-09-02 13:58:39       LIB_ENT    HOSTEL_GATE   \n",
            "2   E100000 2025-09-04 02:31:00       LAB_101        LIB_ENT   \n",
            "3   E100000 2025-09-05 06:46:02    AUDITORIUM        LAB_101   \n",
            "4   E100000 2025-09-10 22:12:00        SEM_01     AUDITORIUM   \n",
            "5   E100000 2025-09-12 19:18:02    AUDITORIUM         SEM_01   \n",
            "6   E100000 2025-09-19 00:36:50       LAB_101     AUDITORIUM   \n",
            "7   E100000 2025-09-20 09:38:00       ROOM_A2        LAB_101   \n",
            "8   E100001 2025-08-27 23:46:00      AP_ENG_3  START_SESSION   \n",
            "9   E100001 2025-08-29 19:55:00       LIB_ENT       AP_ENG_3   \n",
            "\n",
            "  Second_Last_Location  Time_Spent_at_Current_Loc User_Top_Location  \\\n",
            "0           NO_HISTORY                   368241.0        AUDITORIUM   \n",
            "1           NO_HISTORY                   131541.0        AUDITORIUM   \n",
            "2          HOSTEL_GATE                   101702.0        AUDITORIUM   \n",
            "3              LIB_ENT                   487558.0        AUDITORIUM   \n",
            "4              LAB_101                   162362.0        AUDITORIUM   \n",
            "5           AUDITORIUM                   537528.0        AUDITORIUM   \n",
            "6               SEM_01                   118870.0        AUDITORIUM   \n",
            "7           AUDITORIUM                        0.0        AUDITORIUM   \n",
            "8           NO_HISTORY                   158940.0          AP_AUD_3   \n",
            "9           NO_HISTORY                   717060.0          AP_AUD_3   \n",
            "\n",
            "  Next_Location  \n",
            "0       LIB_ENT  \n",
            "1       LAB_101  \n",
            "2    AUDITORIUM  \n",
            "3        SEM_01  \n",
            "4    AUDITORIUM  \n",
            "5       LAB_101  \n",
            "6       ROOM_A2  \n",
            "7   END_SESSION  \n",
            "8       LIB_ENT  \n",
            "9      AP_AUD_3  \n"
          ]
        }
      ],
      "source": [
        "# --- Corrected & Streamlined Feature Engineering ---\n",
        "print(\"🚀 Starting Corrected Feature Engineering...\")\n",
        "\n",
        "# --- 1. Individual Behavioral Features ---\n",
        "# Create features describing each person's unique habits from the clean log\n",
        "df_user_features = df_clean_ml_log.groupby('Entity_ID').agg(\n",
        "    User_Top_Location=('Location_Code', lambda x: x.mode()[0] if not x.mode().empty else 'UNKNOWN'),\n",
        "    User_Unique_Locations=('Location_Code', 'nunique'),\n",
        "    User_Typical_Hour=('Timestamp', lambda x: x.dt.hour.mode()[0]),\n",
        "    User_Event_Count=('Timestamp', 'count')\n",
        ").reset_index()\n",
        "\n",
        "# --- 2. Create the Final `df_ml_ready` DataFrame ---\n",
        "# Merge the new user features into the main log to create our final modeling DataFrame\n",
        "df_ml_ready = pd.merge(df_clean_ml_log, df_user_features, on='Entity_ID', how='left')\n",
        "print(\"✅ Individual features created and merged.\")\n",
        "\n",
        "# --- 3. Temporal Features ---\n",
        "# Add time-based features directly to the new df_ml_ready\n",
        "df_ml_ready['Hour'] = df_ml_ready['Timestamp'].dt.hour\n",
        "df_ml_ready['DayOfWeek'] = df_ml_ready['Timestamp'].dt.dayofweek\n",
        "\n",
        "# --- 4. Enhanced Sequential Features ---\n",
        "# Sort data to ensure correct sequential order before creating lag features\n",
        "df_ml_ready = df_ml_ready.sort_values(by=['Entity_ID', 'Timestamp']).reset_index(drop=True)\n",
        "\n",
        "# Create all sequential features directly on df_ml_ready\n",
        "df_ml_ready['Time_Since_Last_Event'] = df_ml_ready.groupby('Entity_ID')['Timestamp'].diff().dt.total_seconds().fillna(0)\n",
        "df_ml_ready['Time_Spent_at_Current_Loc'] = df_ml_ready.groupby('Entity_ID')['Time_Since_Last_Event'].shift(-1).fillna(0)\n",
        "df_ml_ready['Last_Location'] = df_ml_ready.groupby('Entity_ID')['Location_Code'].shift(1).fillna('START_SESSION')\n",
        "df_ml_ready['Second_Last_Location'] = df_ml_ready.groupby('Entity_ID')['Location_Code'].shift(2).fillna('NO_HISTORY')\n",
        "df_ml_ready['Next_Location'] = df_ml_ready.groupby('Entity_ID')['Location_Code'].shift(-1).fillna('END_SESSION')\n",
        "print(\"✅ All features are now correctly in df_ml_ready.\")\n",
        "\n",
        "# --- Final Showcase ---\n",
        "print(\"\\n--- FINAL ML-READY DATASET ---\")\n",
        "display_cols = [\n",
        "    'Entity_ID', 'Timestamp', 'Location_Code', 'Last_Location',\n",
        "    'Second_Last_Location', 'Time_Spent_at_Current_Loc',\n",
        "    'User_Top_Location', 'Next_Location'\n",
        "]\n",
        "print(df_ml_ready[display_cols].head(10))"
      ]
    },
    {
      "cell_type": "code",
      "execution_count": 9,
      "metadata": {
        "colab": {
          "base_uri": "https://localhost:8080/"
        },
        "id": "jdFEoKP6BTcp",
        "outputId": "a009671a-2a74-4018-a527-c7c2e6262f08"
      },
      "outputs": [
        {
          "name": "stdout",
          "output_type": "stream",
          "text": [
            "--- Step 1: Finding co-located user pairs. This will be slow... ---\n",
            "✅ Found 27414 unique user connections.\n"
          ]
        }
      ],
      "source": [
        "import pandas as pd\n",
        "\n",
        "print(\"--- Step 1: Finding co-located user pairs. This will be slow... ---\")\n",
        "\n",
        "# Select only the necessary columns for this task\n",
        "df_events = df_ml_ready[['Entity_ID', 'Timestamp', 'Location_Code']].copy()\n",
        "\n",
        "# Perform the self-merge to create all possible pairs of events at the same location\n",
        "merged = pd.merge(df_events, df_events, on='Location_Code')\n",
        "\n",
        "# Filter 1: Keep only pairs where the users are different\n",
        "merged = merged[merged['Entity_ID_x'] != merged['Entity_ID_y']]\n",
        "\n",
        "# Filter 2: Keep only pairs where the events happened within 10 minutes (600 seconds) of each other\n",
        "time_diff = (merged['Timestamp_y'] - merged['Timestamp_x']).dt.total_seconds().abs()\n",
        "merged = merged[time_diff < 600]\n",
        "\n",
        "# Create a canonical pair (user1, user2) so that (A, B) is the same as (B, A)\n",
        "# This prevents double counting.\n",
        "pairs = np.sort(merged[['Entity_ID_x', 'Entity_ID_y']], axis=1)\n",
        "df_pairs = pd.DataFrame(pairs, columns=['user1', 'user2'])\n",
        "\n",
        "# Count the number of times each pair was co-located\n",
        "edge_weights = df_pairs.groupby(['user1', 'user2']).size().reset_index(name='weight')\n",
        "\n",
        "print(f\"✅ Found {len(edge_weights)} unique user connections.\")"
      ]
    },
    {
      "cell_type": "code",
      "execution_count": 10,
      "metadata": {
        "colab": {
          "base_uri": "https://localhost:8080/"
        },
        "id": "fsnLDB80eyTr",
        "outputId": "fbaeac9c-9746-4556-ff2e-282b83428cc4"
      },
      "outputs": [
        {
          "name": "stdout",
          "output_type": "stream",
          "text": [
            "\n",
            "--- Step 2: Building the social network graph... ---\n",
            "✅ Graph built with 6705 users and 27414 connections.\n"
          ]
        }
      ],
      "source": [
        "import networkx as nx\n",
        "\n",
        "print(\"\\n--- Step 2: Building the social network graph... ---\")\n",
        "\n",
        "G = nx.Graph()\n",
        "\n",
        "# Create a list of tuples for efficient graph creation: (user1, user2, weight)\n",
        "edges = [tuple(x) for x in edge_weights.to_numpy()]\n",
        "\n",
        "# Add all the edges to the graph\n",
        "G.add_weighted_edges_from(edges)\n",
        "\n",
        "print(f\"✅ Graph built with {G.number_of_nodes()} users and {G.number_of_edges()} connections.\")"
      ]
    },
    {
      "cell_type": "code",
      "execution_count": 11,
      "metadata": {
        "colab": {
          "base_uri": "https://localhost:8080/"
        },
        "id": "UwPzXLsne0P7",
        "outputId": "93e531f1-47a0-40ea-8713-c9c261842b18"
      },
      "outputs": [
        {
          "name": "stdout",
          "output_type": "stream",
          "text": [
            "\n",
            "--- Step 3: Detecting social communities... ---\n",
            "✅ Found 49 distinct communities.\n"
          ]
        }
      ],
      "source": [
        "import community as community_louvain\n",
        "\n",
        "print(\"\\n--- Step 3: Detecting social communities... ---\")\n",
        "\n",
        "# Run the Louvain community detection algorithm\n",
        "partition = community_louvain.best_partition(G, weight='weight')\n",
        "\n",
        "# Convert the result into a DataFrame\n",
        "df_community = pd.DataFrame(partition.items(), columns=['Entity_ID', 'Community_ID'])\n",
        "\n",
        "print(f\"✅ Found {df_community['Community_ID'].nunique()} distinct communities.\")"
      ]
    },
    {
      "cell_type": "code",
      "execution_count": 12,
      "metadata": {
        "colab": {
          "base_uri": "https://localhost:8080/"
        },
        "id": "2OGP5NiKe2tk",
        "outputId": "368c0a6f-27a0-4999-9fb8-f809792942d8"
      },
      "outputs": [
        {
          "name": "stdout",
          "output_type": "stream",
          "text": [
            "\n",
            "--- Step 4: Adding 'Community_ID' feature to the main dataset... ---\n",
            "✅ 'Community_ID' feature successfully added!\n",
            "  Entity_ID department  Community_ID\n",
            "0   E100000      CIVIL            46\n",
            "1   E100000      CIVIL            46\n",
            "2   E100000      CIVIL            46\n",
            "3   E100000      CIVIL            46\n",
            "4   E100000      CIVIL            46\n",
            "5   E100000      CIVIL            46\n",
            "6   E100000      CIVIL            46\n",
            "7   E100000      CIVIL            46\n",
            "8   E100001    Physics            13\n",
            "9   E100001    Physics            13\n"
          ]
        }
      ],
      "source": [
        "print(\"\\n--- Step 4: Adding 'Community_ID' feature to the main dataset... ---\")\n",
        "\n",
        "# Merge the community data back into the main DataFrame\n",
        "df_ml_ready = pd.merge(df_ml_ready, df_community, on='Entity_ID', how='left')\n",
        "\n",
        "# Fill in a '0' for any users who had no connections\n",
        "df_ml_ready['Community_ID'] = df_ml_ready['Community_ID'].fillna(0).astype(int)\n",
        "\n",
        "print(\"✅ 'Community_ID' feature successfully added!\")\n",
        "print(df_ml_ready[['Entity_ID', 'department', 'Community_ID']].head(10))"
      ]
    },
    {
      "cell_type": "code",
      "execution_count": 13,
      "metadata": {
        "colab": {
          "base_uri": "https://localhost:8080/"
        },
        "id": "R8gvj3SBNswD",
        "outputId": "3340b186-8ab6-467b-ddcb-4d08065cc6c0"
      },
      "outputs": [
        {
          "name": "stdout",
          "output_type": "stream",
          "text": [
            "\n",
            "--- ML-READY DATASET: Identified CCTV Events Only ---\n",
            "This shows the identified CCTV events with all predictive features attached.\n",
            "   Entity_ID           Timestamp Location_Code     Last_Location  \\\n",
            "2    E100000 2025-09-04 02:31:00       LAB_101           LIB_ENT   \n",
            "9    E100001 2025-08-29 19:55:00       LIB_ENT          AP_ENG_3   \n",
            "17   E100002 2025-09-21 07:46:00        CAF_01  LIBRARY_BUILDING   \n",
            "20   E100003 2025-09-22 20:00:00           GYM            SEM_01   \n",
            "25   E100004 2025-09-11 03:07:00       LAB_101       HOSTEL_GATE   \n",
            "28   E100005 2025-08-31 13:09:00       LAB_101     START_SESSION   \n",
            "29   E100005 2025-09-18 00:54:00    AUDITORIUM           LAB_101   \n",
            "33   E100006 2025-09-03 19:30:00   ADMIN_LOBBY  LIBRARY_BUILDING   \n",
            "49   E100008 2025-09-15 18:19:00   ADMIN_LOBBY       HOSTEL_AREA   \n",
            "50   E100008 2025-09-17 23:44:00       LAB_305       ADMIN_LOBBY   \n",
            "\n",
            "    Time_Since_Last_Event Next_Location department           name  \n",
            "2                131541.0    AUDITORIUM      CIVIL     Neha Mehta  \n",
            "9                158940.0      AP_AUD_3    Physics     Neha Kumar  \n",
            "17                58655.0    AUDITORIUM      Admin     Neha Singh  \n",
            "20              2203320.0      AP_LIB_4      Admin   Ishaan Desai  \n",
            "25               264493.0       LAB_101       MECH    Rohan Desai  \n",
            "28                    0.0    AUDITORIUM        BIO       Neha Rao  \n",
            "29              1511100.0       ROOM_A1        BIO       Neha Rao  \n",
            "33               157950.0      AP_CAF_1    Physics    Aarav Gupta  \n",
            "49                81868.0       LAB_305    Physics  Siddharth Rao  \n",
            "50               192300.0   END_SESSION    Physics  Siddharth Rao  \n",
            "\n",
            "Total UNKNOWN CCTV Events Ready for Proximity Linking: 0\n"
          ]
        }
      ],
      "source": [
        "# --- Final Display Snippet for Identified CCTV Events ---\n",
        "\n",
        "# 1. Filter the ML-ready log for *identified* CCTV detections\n",
        "df_cctv_identified = df_ml_ready[\n",
        "    (df_ml_ready['Event_Type'] == 'CCTV_Detection') &\n",
        "    (df_ml_ready['Entity_ID'] != 'UNKNOWN')\n",
        "]\n",
        "\n",
        "# 2. Define the columns to display\n",
        "display_cols = ['Entity_ID', 'Timestamp', 'Location_Code', 'Last_Location',\n",
        "                'Time_Since_Last_Event', 'Next_Location', 'department', 'name']\n",
        "\n",
        "print(\"\\n--- ML-READY DATASET: Identified CCTV Events Only ---\")\n",
        "print(\"This shows the identified CCTV events with all predictive features attached.\")\n",
        "print(df_cctv_identified[display_cols].head(10))\n",
        "\n",
        "# --- Optional: Show UNKNOWN CCTV Events ---\n",
        "df_cctv_unknown = df_ml_ready[\n",
        "    (df_ml_ready['Event_Type'] == 'CCTV_Detection') &\n",
        "    (df_ml_ready['Entity_ID'] == 'UNKNOWN')\n",
        "]\n",
        "print(f\"\\nTotal UNKNOWN CCTV Events Ready for Proximity Linking: {len(df_cctv_unknown)}\")\n",
        "if not df_cctv_unknown.empty:\n",
        "    print(df_cctv_unknown[display_cols].head())"
      ]
    },
    {
      "cell_type": "code",
      "execution_count": 13,
      "metadata": {
        "id": "7eBUXiJZDz8B"
      },
      "outputs": [],
      "source": []
    },
    {
      "cell_type": "code",
      "execution_count": 14,
      "metadata": {
        "colab": {
          "base_uri": "https://localhost:8080/"
        },
        "id": "f-tBsyIGGG9R",
        "outputId": "02e82be6-ba97-4f16-f750-8b094c86af83"
      },
      "outputs": [
        {
          "name": "stdout",
          "output_type": "stream",
          "text": [
            "--- Processed CCTV Frames Head (Checking for UNKNOWNs) ---\n",
            "  Entity_ID           Timestamp      Event_Type Location_Code\n",
            "0   UNKNOWN 2025-09-01 12:29:00  CCTV_Detection       LAB_101\n",
            "1   UNKNOWN 2025-09-04 10:27:00  CCTV_Detection       LIB_ENT\n",
            "2   E102064 2025-09-06 05:36:00  CCTV_Detection   ADMIN_LOBBY\n",
            "3   E100578 2025-09-16 03:05:00  CCTV_Detection    AUDITORIUM\n",
            "4   UNKNOWN 2025-08-30 22:18:00  CCTV_Detection   ADMIN_LOBBY\n"
          ]
        }
      ],
      "source": [
        "# --- Process CCTV Frames (New Logic to handle FXXXXX to EXXXXX conversion) ---\n",
        "\n",
        "CCTV_FILE_PATH = BASE_PATH + \"cctv_frames.csv\"\n",
        "df_cctv_raw = pd.read_csv(CCTV_FILE_PATH)\n",
        "\n",
        "# 1. Map Face ID to Entity ID and handle missing values\n",
        "def map_face_to_entity(face_id):\n",
        "    \"\"\"Converts F1XXXXX to E1XXXXX or returns UNKNOWN if face_id is missing/blank.\"\"\"\n",
        "    if pd.isna(face_id) or face_id == '':\n",
        "        return 'UNKNOWN'\n",
        "    # Use string replace to convert F1XXXXX to E1XXXXX\n",
        "    return str(face_id).replace('F', 'E')\n",
        "\n",
        "df_cctv_raw['Entity_ID'] = df_cctv_raw['face_id'].apply(map_face_to_entity)\n",
        "\n",
        "# 2. Standardize columns\n",
        "df_cctv_raw = df_cctv_raw.rename(columns={\n",
        "    'location_id': 'Location_Code',\n",
        "    'timestamp': 'Timestamp'\n",
        "})\n",
        "df_cctv_raw['Event_Type'] = 'CCTV_Detection'\n",
        "df_cctv_raw['Timestamp'] = pd.to_datetime(df_cctv_raw['Timestamp'], errors='coerce')\n",
        "\n",
        "# 3. Select and save for concatenation\n",
        "df_cctv_processed = df_cctv_raw[['Entity_ID', 'Timestamp', 'Event_Type', 'Location_Code']]\n",
        "\n",
        "print(\"--- Processed CCTV Frames Head (Checking for UNKNOWNs) ---\")\n",
        "print(df_cctv_processed.head(5))\n",
        "\n",
        "# --- IMPORTANT: Re-run the final master log concatenation process ---\n",
        "# You would now replace the old CCTV processing in your master code with this new block,\n",
        "# and re-run the final concatenation/merge steps to get the new df_clean_ml_log."
      ]
    },
    {
      "cell_type": "code",
      "execution_count": 15,
      "metadata": {
        "colab": {
          "base_uri": "https://localhost:8080/"
        },
        "id": "wGFV9mR_QnCG",
        "outputId": "9cf61ba0-aa89-4e98-9d1d-61c0a6374faa"
      },
      "outputs": [
        {
          "name": "stdout",
          "output_type": "stream",
          "text": [
            "--- Location Granularity and New Features Applied ---\n",
            "Total Unique Original Locations: 51\n",
            "Total Unique Zones (New Target Classes): 16\n",
            "            Timestamp Location_Code         Zone_Code         Last_Zone  \\\n",
            "0 2025-08-29 07:41:18   HOSTEL_GATE       HOSTEL_GATE     START_SESSION   \n",
            "1 2025-09-02 13:58:39       LIB_ENT           LIB_ENT       HOSTEL_GATE   \n",
            "2 2025-09-04 02:31:00       LAB_101    LAB_CLASS_AREA           LIB_ENT   \n",
            "3 2025-09-05 06:46:02    AUDITORIUM        AUDITORIUM    LAB_CLASS_AREA   \n",
            "4 2025-09-10 22:12:00        SEM_01    LAB_CLASS_AREA        AUDITORIUM   \n",
            "5 2025-09-12 19:18:02    AUDITORIUM        AUDITORIUM    LAB_CLASS_AREA   \n",
            "6 2025-09-19 00:36:50       LAB_101    LAB_CLASS_AREA        AUDITORIUM   \n",
            "7 2025-09-20 09:38:00       ROOM_A2     MISC_BUILDING    LAB_CLASS_AREA   \n",
            "8 2025-08-27 23:46:00      AP_ENG_3  ENGINEERING_AREA     START_SESSION   \n",
            "9 2025-08-29 19:55:00       LIB_ENT           LIB_ENT  ENGINEERING_AREA   \n",
            "\n",
            "        Next_Zone  Time_Spent_at_Last_Loc  \n",
            "0         LIB_ENT                368241.0  \n",
            "1  LAB_CLASS_AREA                131541.0  \n",
            "2      AUDITORIUM                101702.0  \n",
            "3  LAB_CLASS_AREA                487558.0  \n",
            "4      AUDITORIUM                162362.0  \n",
            "5  LAB_CLASS_AREA                537528.0  \n",
            "6   MISC_BUILDING                118870.0  \n",
            "7     END_SESSION                     0.0  \n",
            "8         LIB_ENT                158940.0  \n",
            "9        AUD_AREA                717060.0  \n"
          ]
        }
      ],
      "source": [
        "# Assuming your final ML-ready DataFrame is named df_ml_ready\n",
        "\n",
        "# --- Location Granularity Mapping Function ---\n",
        "def map_location_to_zone(location):\n",
        "    \"\"\"Reduces the granularity of the location codes into broader zones.\"\"\"\n",
        "    loc = str(location)\n",
        "    if loc.startswith('AP_ADMIN'): return 'ADMIN_AREA'\n",
        "    if loc.startswith('AP_AUD'): return 'AUD_AREA'\n",
        "    if loc.startswith('AP_CAF'): return 'CAFETERIA_AREA'\n",
        "    if loc.startswith('AP_ENG'): return 'ENGINEERING_AREA'\n",
        "    if loc.startswith('AP_HOSTEL'): return 'HOSTEL_AREA'\n",
        "    if loc.startswith('AP_LAB') or loc.startswith('LAB') or loc.startswith('SEM_'): return 'LAB_CLASS_AREA'\n",
        "    if loc.startswith('AP_LIB'): return 'LIBRARY_AREA'\n",
        "\n",
        "    # Keep key locations and unique identifiers\n",
        "    if loc in ['AUDITORIUM', 'CAF_01', 'GYM', 'HOSTEL_GATE', 'LIBRARY_BUILDING',\n",
        "               'LIB_ENT', 'ROBOTICS_CLUB', 'NON_PHYSICAL_EVENT', 'START_SESSION', 'END_SESSION']: return loc\n",
        "\n",
        "    # Group any remaining sparse locations\n",
        "    return 'MISC_BUILDING'\n",
        "\n",
        "# Apply the mapping function to the current, last, and next locations\n",
        "df_ml_ready['Zone_Code'] = df_ml_ready['Location_Code'].apply(map_location_to_zone)\n",
        "df_ml_ready['Last_Zone'] = df_ml_ready['Last_Location'].apply(map_location_to_zone)\n",
        "df_ml_ready['Next_Zone'] = df_ml_ready['Next_Location'].apply(map_location_to_zone)\n",
        "\n",
        "# --- Add Time Spent Feature (Crucial Sequential Feature) ---\n",
        "# Calculate the duration spent at the current Zone before the next event\n",
        "df_ml_ready['Time_Spent_at_Last_Loc'] = df_ml_ready.groupby('Entity_ID')['Time_Since_Last_Event'].shift(-1).fillna(0)\n",
        "\n",
        "print(\"--- Location Granularity and New Features Applied ---\")\n",
        "print(f\"Total Unique Original Locations: {df_ml_ready['Location_Code'].nunique()}\")\n",
        "print(f\"Total Unique Zones (New Target Classes): {df_ml_ready['Next_Zone'].nunique()}\")\n",
        "print(df_ml_ready[['Timestamp', 'Location_Code', 'Zone_Code', 'Last_Zone', 'Next_Zone', 'Time_Spent_at_Last_Loc']].head(10))\n",
        "# --- STRATEGY: Generate Individual Behavioral Features ---\n"
      ]
    },
    {
      "cell_type": "code",
      "execution_count": 16,
      "metadata": {
        "colab": {
          "base_uri": "https://localhost:8080/"
        },
        "id": "TxguDALyQrcH",
        "outputId": "8f105062-ad28-482b-aa88-d516cf759474"
      },
      "outputs": [
        {
          "name": "stdout",
          "output_type": "stream",
          "text": [
            "\n",
            "--- FINAL ML-READY DATASET (No UNKNOWN CCTV Events Found) ---\n",
            "Data is ready for encoding (OneHot/Label Encoding) and Model Training.\n",
            "  Entity_ID           Timestamp Location_Code  Last_Location  \\\n",
            "0   E100000 2025-08-29 07:41:18   HOSTEL_GATE  START_SESSION   \n",
            "1   E100000 2025-09-02 13:58:39       LIB_ENT    HOSTEL_GATE   \n",
            "2   E100000 2025-09-04 02:31:00       LAB_101        LIB_ENT   \n",
            "3   E100000 2025-09-05 06:46:02    AUDITORIUM        LAB_101   \n",
            "4   E100000 2025-09-10 22:12:00        SEM_01     AUDITORIUM   \n",
            "5   E100000 2025-09-12 19:18:02    AUDITORIUM         SEM_01   \n",
            "6   E100000 2025-09-19 00:36:50       LAB_101     AUDITORIUM   \n",
            "7   E100000 2025-09-20 09:38:00       ROOM_A2        LAB_101   \n",
            "8   E100001 2025-08-27 23:46:00      AP_ENG_3  START_SESSION   \n",
            "9   E100001 2025-08-29 19:55:00       LIB_ENT       AP_ENG_3   \n",
            "\n",
            "   Time_Since_Last_Event Next_Location department        name  \n",
            "0                    0.0       LIB_ENT      CIVIL  Neha Mehta  \n",
            "1               368241.0       LAB_101      CIVIL  Neha Mehta  \n",
            "2               131541.0    AUDITORIUM      CIVIL  Neha Mehta  \n",
            "3               101702.0        SEM_01      CIVIL  Neha Mehta  \n",
            "4               487558.0    AUDITORIUM      CIVIL  Neha Mehta  \n",
            "5               162362.0       LAB_101      CIVIL  Neha Mehta  \n",
            "6               537528.0       ROOM_A2      CIVIL  Neha Mehta  \n",
            "7               118870.0   END_SESSION      CIVIL  Neha Mehta  \n",
            "8                    0.0       LIB_ENT    Physics  Neha Kumar  \n",
            "9               158940.0      AP_AUD_3    Physics  Neha Kumar  \n"
          ]
        }
      ],
      "source": [
        "# --- Corrected Final Display Snippet ---\n",
        "\n",
        "# Since there were 0 UNKNOWN CCTV events, the Inference_Confidence column was never created.\n",
        "# We will just display the final ML-ready log columns.\n",
        "\n",
        "print(\"\\n--- FINAL ML-READY DATASET (No UNKNOWN CCTV Events Found) ---\")\n",
        "print(\"Data is ready for encoding (OneHot/Label Encoding) and Model Training.\")\n",
        "\n",
        "# Define the columns to display for confirmation\n",
        "display_cols = ['Entity_ID', 'Timestamp', 'Location_Code', 'Last_Location',\n",
        "                'Time_Since_Last_Event', 'Next_Location', 'department', 'name']\n",
        "\n",
        "# Assuming the final ML-ready DataFrame is named df_ml_ready\n",
        "print(df_ml_ready[display_cols].head(10))"
      ]
    },
    {
      "cell_type": "code",
      "execution_count": 17,
      "metadata": {
        "colab": {
          "base_uri": "https://localhost:8080/"
        },
        "id": "iCYBrKXmDk9u",
        "outputId": "9cf31a04-e924-464e-beff-5dc5bf011bae"
      },
      "outputs": [
        {
          "name": "stdout",
          "output_type": "stream",
          "text": [
            "--- Engineering 'crowd_index' feature. This will take a few minutes... ---\n",
            "\n",
            "✅ 'crowd_index' feature created successfully.\n",
            "            Timestamp Location_Code Entity_ID\n",
            "0 2025-08-29 07:41:18   HOSTEL_GATE   E100000\n",
            "1 2025-09-02 13:58:39       LIB_ENT   E100000\n",
            "2 2025-09-04 02:31:00       LAB_101   E100000\n",
            "3 2025-09-05 06:46:02    AUDITORIUM   E100000\n",
            "4 2025-09-10 22:12:00        SEM_01   E100000\n",
            "5 2025-09-12 19:18:02    AUDITORIUM   E100000\n",
            "6 2025-09-19 00:36:50       LAB_101   E100000\n",
            "7 2025-09-20 09:38:00       ROOM_A2   E100000\n",
            "8 2025-08-27 23:46:00      AP_ENG_3   E100001\n",
            "9 2025-08-29 19:55:00       LIB_ENT   E100001\n"
          ]
        }
      ],
      "source": [
        "import pandas as pd\n",
        "\n",
        "print(\"--- Engineering 'crowd_index' feature. This will take a few minutes... ---\")\n",
        "\n",
        "# For efficient time-based lookups, we set a Timestamp index.\n",
        "df_indexed = df_ml_ready.set_index('Timestamp')\n",
        "\n",
        "# CORRECTED: Add this line to sort the DataFrame by its new Timestamp index.\n",
        "df_indexed = df_indexed.sort_index()\n",
        "\n",
        "\n",
        "\n",
        "\n",
        "print(\"\\n✅ 'crowd_index' feature created successfully.\")\n",
        "print(df_ml_ready[['Timestamp', 'Location_Code', 'Entity_ID']].head(10))"
      ]
    },
    {
      "cell_type": "markdown",
      "metadata": {
        "id": "fEbUXM0iO75W"
      },
      "source": [
        "ML begins now\n"
      ]
    },
    {
      "cell_type": "code",
      "execution_count": 18,
      "metadata": {
        "colab": {
          "base_uri": "https://localhost:8080/"
        },
        "id": "GJs6O87ZU7__",
        "outputId": "7987c7d5-6802-4401-fc91-41ab4199de91"
      },
      "outputs": [
        {
          "name": "stdout",
          "output_type": "stream",
          "text": [
            "--- Starting Final Model Training & Tuning Pipeline ---\n",
            "Applying MERGED zone mapping...\n",
            "\n",
            "New unique zones in the target column ('Next_Zone'):\n",
            "['LIBRARY_ZONE' 'MISC_BUILDING' 'AUDITORIUM_ZONE' 'END_SESSION' 'CAF_01'\n",
            " 'GYM' 'HOSTEL_GATE' 'HOSTEL_AREA' 'CAFETERIA_AREA' 'ADMIN_AREA'\n",
            " 'ENGINEERING_AREA']\n",
            "Created training set with 35236 rows.\n",
            "Encoding target variable and splitting data...\n",
            "Fitting preprocessor and transforming feature data...\n",
            "Shape of processed training data: (28188, 105)\n",
            "Calculating class weights to handle imbalance...\n",
            "\n",
            "🚀 Starting Hyperparameter Tuning...\n",
            "Fitting 3 folds for each of 25 candidates, totalling 75 fits\n"
          ]
        },
        {
          "name": "stderr",
          "output_type": "stream",
          "text": [
            "/usr/local/lib/python3.12/dist-packages/xgboost/training.py:183: UserWarning: [12:41:20] WARNING: /workspace/src/learner.cc:738: \n",
            "Parameters: { \"use_label_encoder\" } are not used.\n",
            "\n",
            "  bst.update(dtrain, iteration=i, fobj=obj)\n"
          ]
        },
        {
          "name": "stdout",
          "output_type": "stream",
          "text": [
            "\n",
            "--- Hyperparameter Tuning Complete ---\n",
            "🏆 Best Parameters Found: {'subsample': 0.9, 'n_estimators': 500, 'max_depth': 16, 'learning_rate': 0.05, 'gamma': 0.2, 'colsample_bytree': 0.8}\n",
            "🎯 Best Cross-Validation Accuracy: 44.19%\n",
            "\n",
            "✅ Final Model Accuracy on Test Set: 43.73%\n",
            "\n",
            "--- Final Classification Report ---\n",
            "                  precision    recall  f1-score   support\n",
            "\n",
            "      ADMIN_AREA       0.23      0.17      0.20       187\n",
            " AUDITORIUM_ZONE       0.30      0.30      0.30       662\n",
            "  CAFETERIA_AREA       0.32      0.14      0.19       183\n",
            "          CAF_01       0.36      0.22      0.28       277\n",
            "ENGINEERING_AREA       0.36      0.16      0.22       190\n",
            "             GYM       0.27      0.18      0.21       274\n",
            "     HOSTEL_AREA       0.26      0.13      0.18       181\n",
            "     HOSTEL_GATE       0.32      0.20      0.24       281\n",
            "    LIBRARY_ZONE       0.43      0.49      0.46      1851\n",
            "   MISC_BUILDING       0.51      0.57      0.54      2962\n",
            "\n",
            "        accuracy                           0.44      7048\n",
            "       macro avg       0.33      0.26      0.28      7048\n",
            "    weighted avg       0.42      0.44      0.42      7048\n",
            "\n"
          ]
        }
      ],
      "source": [
        "import numpy as np\n",
        "import pandas as pd\n",
        "import xgboost as xgb\n",
        "from sklearn.model_selection import train_test_split, RandomizedSearchCV\n",
        "from sklearn.preprocessing import LabelEncoder, OneHotEncoder\n",
        "from sklearn.compose import ColumnTransformer\n",
        "from sklearn.utils import class_weight\n",
        "from sklearn.metrics import accuracy_score, classification_report\n",
        "\n",
        "# ---\n",
        "# This is the final, consolidated pipeline including all features and hyperparameter tuning.\n",
        "# Assumes 'df_ml_ready' is your starting DataFrame.\n",
        "# ---\n",
        "\n",
        "print(\"--- Starting Final Model Training & Tuning Pipeline ---\")\n",
        "\n",
        "# --- Step 1: Define Helper Functions for Feature Engineering ---\n",
        "\n",
        "def map_location_to_zone_merged(location):\n",
        "    \"\"\"\n",
        "    Reduces granularity by merging zones that are frequently confused.\n",
        "    This version creates the high-performing 'MISC_BUILDING' super-category.\n",
        "    \"\"\"\n",
        "    loc = str(location)\n",
        "\n",
        "    # --- MERGE RULES ---\n",
        "    if loc in ['LIB_ENT', 'LIBRARY_BUILDING'] or loc.startswith('AP_LIB'):\n",
        "        return 'LIBRARY_ZONE'\n",
        "    if loc in ['AUD_AREA', 'AUDITORIUM'] or loc.startswith('AP_AUD'):\n",
        "        return 'AUDITORIUM_ZONE'\n",
        "\n",
        "    # --- Original Rules ---\n",
        "    if loc.startswith('AP_ADMIN'): return 'ADMIN_AREA'\n",
        "    if loc.startswith('AP_CAF'): return 'CAFETERIA_AREA'\n",
        "    if loc.startswith('AP_ENG'): return 'ENGINEERING_AREA'\n",
        "    if loc.startswith('AP_HOSTEL'): return 'HOSTEL_AREA'\n",
        "    if loc in ['CAF_01', 'GYM', 'HOSTEL_GATE', 'START_SESSION', 'END_SESSION', 'NO_HISTORY']:\n",
        "        return loc\n",
        "\n",
        "    # All other locations (including labs, seminars, robotics club) fall here\n",
        "    return 'MISC_BUILDING'\n",
        "\n",
        "# --- 2. Final Feature Engineering and Data Preparation ---\n",
        "print(\"Applying MERGED zone mapping...\")\n",
        "\n",
        "df_ml_ready['Zone_Code'] = df_ml_ready['Location_Code'].apply(map_location_to_zone_merged)\n",
        "df_ml_ready['Last_Zone'] = df_ml_ready['Last_Location'].apply(map_location_to_zone_merged)\n",
        "df_ml_ready['Next_Zone'] = df_ml_ready['Next_Location'].apply(map_location_to_zone_merged)\n",
        "df_ml_ready['Second_Last_Zone'] = df_ml_ready['Second_Last_Location'].apply(map_location_to_zone_merged)\n",
        "df_ml_ready['User_Top_Zone'] = df_ml_ready['User_Top_Location'].apply(map_location_to_zone_merged)\n",
        "\n",
        "print(\"\\nNew unique zones in the target column ('Next_Zone'):\")\n",
        "print(df_ml_ready['Next_Zone'].unique())\n",
        "\n",
        "# Create temporal and targeted features\n",
        "if 'Hour' not in df_ml_ready.columns:\n",
        "    df_ml_ready['Hour'] = df_ml_ready['Timestamp'].dt.hour\n",
        "if 'DayOfWeek' not in df_ml_ready.columns:\n",
        "    df_ml_ready['DayOfWeek'] = df_ml_ready['Timestamp'].dt.dayofweek\n",
        "\n",
        "df_ml_ready['Time_Spent_at_Current_Loc'] = df_ml_ready.groupby('Entity_ID')['Time_Since_Last_Event'].shift(-1).fillna(0)\n",
        "df_ml_ready['is_after_hours'] = ((df_ml_ready['Hour'] >= 18) | (df_ml_ready['DayOfWeek'] >= 5)).astype(int)\n",
        "\n",
        "def is_entry_event(row):\n",
        "    # Corrected to use the new merged zone names\n",
        "    entry_points = ['LIBRARY_ZONE', 'HOSTEL_GATE', 'AUDITORIUM_ZONE']\n",
        "    if row['Last_Zone'] in entry_points and row['Event_Type'] == 'Card_Swipe':\n",
        "        return 1\n",
        "    return 0\n",
        "df_ml_ready['is_transition'] = df_ml_ready.apply(is_entry_event, axis=1)\n",
        "\n",
        "# Create the training set\n",
        "df_train = df_ml_ready[df_ml_ready['Next_Zone'] != 'END_SESSION'].copy()\n",
        "print(f\"Created training set with {len(df_train)} rows.\")\n",
        "\n",
        "# Cyclical Hour Encoding\n",
        "df_train['Hour_sin'] = np.sin(2 * np.pi * df_train['Hour'] / 24)\n",
        "df_train['Hour_cos'] = np.cos(2 * np.pi * df_train['Hour'] / 24)\n",
        "\n",
        "# Group Rare Event Types\n",
        "top_10_events = df_train['Event_Type'].value_counts().nlargest(10).index.tolist()\n",
        "def group_rare_events(event_type):\n",
        "    if event_type in top_10_events: return event_type\n",
        "    if str(event_type).startswith('Library_Checkout_Book_'): return 'Library_Checkout_Other'\n",
        "    if str(event_type).startswith('Note_'): return 'Note_Other'\n",
        "    return 'Other_Event'\n",
        "df_train['Event_Type_Grouped'] = df_train['Event_Type'].apply(group_rare_events)\n",
        "\n",
        "\n",
        "# --- 3. Define Features (X) and Target (Y) ---\n",
        "Y = df_train['Next_Zone']\n",
        "X = df_train[[\n",
        "    'Last_Zone', 'Second_Last_Zone', 'Event_Type_Grouped', 'Time_Since_Last_Event',\n",
        "    'Time_Spent_at_Current_Loc', 'Hour_sin', 'Hour_cos', 'DayOfWeek', 'role',\n",
        "    'User_Top_Zone', 'User_Unique_Locations', 'User_Typical_Hour', 'User_Event_Count',\n",
        "    'is_transition', 'is_after_hours', 'Community_ID'\n",
        "]]\n",
        "\n",
        "# --- 4. Encode Target and Split Data ---\n",
        "print(\"Encoding target variable and splitting data...\")\n",
        "label_encoder = LabelEncoder()\n",
        "Y_encoded = label_encoder.fit_transform(Y)\n",
        "X_train, X_test, Y_train_encoded, Y_test_encoded = train_test_split(\n",
        "    X, Y_encoded, test_size=0.2, random_state=42, stratify=Y_encoded\n",
        ")\n",
        "\n",
        "# --- 5. Preprocess Features ---\n",
        "categorical_features = ['Last_Zone', 'Second_Last_Zone', 'Event_Type_Grouped', 'role', 'User_Top_Zone', 'Community_ID']\n",
        "numerical_features = ['Time_Since_Last_Event', 'Time_Spent_at_Current_Loc', 'DayOfWeek', 'Hour_sin', 'Hour_cos', 'User_Unique_Locations', 'User_Typical_Hour', 'User_Event_Count', 'is_transition', 'is_after_hours']\n",
        "\n",
        "preprocessor = ColumnTransformer(\n",
        "    transformers=[\n",
        "        ('cat', OneHotEncoder(handle_unknown='ignore', sparse_output=False), categorical_features),\n",
        "        ('num', 'passthrough', numerical_features)\n",
        "    ],\n",
        "    remainder='drop'\n",
        ")\n",
        "print(\"Fitting preprocessor and transforming feature data...\")\n",
        "X_train_processed = preprocessor.fit_transform(X_train)\n",
        "X_test_processed = preprocessor.transform(X_test)\n",
        "print(f\"Shape of processed training data: {X_train_processed.shape}\")\n",
        "\n",
        "# --- 6. Handle Class Imbalance ---\n",
        "print(\"Calculating class weights to handle imbalance...\")\n",
        "class_weights_values = class_weight.compute_class_weight('balanced', classes=np.unique(Y_train_encoded), y=Y_train_encoded)\n",
        "class_weights_dict = {i: weight for i, weight in enumerate(class_weights_values)}\n",
        "sample_weights = np.array([class_weights_dict[label] for label in Y_train_encoded])\n",
        "\n",
        "# --- Step 7: Hyperparameter Tuning with RandomizedSearchCV ---\n",
        "print(\"\\n🚀 Starting Hyperparameter Tuning...\")\n",
        "\n",
        "param_dist = {\n",
        "    'n_estimators': [300, 500, 800],\n",
        "    'max_depth': [8, 12, 16],\n",
        "    'learning_rate': [0.05, 0.1],\n",
        "    'subsample': [0.8, 0.9],\n",
        "    'colsample_bytree': [0.8, 0.9],\n",
        "    'gamma': [0.1, 0.2]\n",
        "}\n",
        "\n",
        "xgb_model = xgb.XGBClassifier(\n",
        "    objective='multi:softmax',\n",
        "    num_class=len(np.unique(Y_encoded)),\n",
        "    eval_metric='mlogloss',\n",
        "    use_label_encoder=False,\n",
        "    random_state=42\n",
        ")\n",
        "\n",
        "random_search = RandomizedSearchCV(\n",
        "    estimator=xgb_model,\n",
        "    param_distributions=param_dist,\n",
        "    n_iter=25,\n",
        "    scoring='accuracy',\n",
        "    n_jobs=-1,\n",
        "    cv=3,\n",
        "    verbose=2,\n",
        "    random_state=42\n",
        ")\n",
        "\n",
        "random_search.fit(X_train_processed, Y_train_encoded, sample_weight=sample_weights)\n",
        "\n",
        "print(\"\\n--- Hyperparameter Tuning Complete ---\")\n",
        "print(f\"🏆 Best Parameters Found: {random_search.best_params_}\")\n",
        "print(f\"🎯 Best Cross-Validation Accuracy: {random_search.best_score_ * 100:.2f}%\")\n",
        "\n",
        "# --- Step 8: Final Evaluation with the Best Model ---\n",
        "best_model = random_search.best_estimator_\n",
        "Y_pred_encoded = best_model.predict(X_test_processed)\n",
        "accuracy = accuracy_score(Y_test_encoded, Y_pred_encoded)\n",
        "print(f\"\\n✅ Final Model Accuracy on Test Set: {accuracy * 100:.2f}%\")\n",
        "print(\"\\n--- Final Classification Report ---\")\n",
        "print(classification_report(Y_test_encoded, Y_pred_encoded, target_names=label_encoder.classes_, zero_division=0))"
      ]
    },
    {
      "cell_type": "code",
      "execution_count": 19,
      "metadata": {
        "colab": {
          "base_uri": "https://localhost:8080/"
        },
        "id": "hbqGAvlIP1JK",
        "outputId": "3d4cdcf3-166c-40ff-c15b-022cde603ae9"
      },
      "outputs": [
        {
          "name": "stdout",
          "output_type": "stream",
          "text": [
            "Model saved to: /content/drive/MyDrive/best_xgb_model.joblib\n",
            "Preprocessor saved to: /content/drive/MyDrive/preprocessor.joblib\n",
            "Encoder saved to: /content/drive/MyDrive/label_encoder.joblib\n"
          ]
        }
      ],
      "source": [
        "import joblib\n",
        "\n",
        "# Define the paths where you want to save your files\n",
        "model_path = '/content/drive/MyDrive/best_xgb_model.joblib'\n",
        "preprocessor_path = '/content/drive/MyDrive/preprocessor.joblib'\n",
        "encoder_path = '/content/drive/MyDrive/label_encoder.joblib'\n",
        "\n",
        "# Save the three objects\n",
        "joblib.dump(best_model, model_path)\n",
        "joblib.dump(preprocessor, preprocessor_path)\n",
        "joblib.dump(label_encoder, encoder_path)\n",
        "\n",
        "print(f\"Model saved to: {model_path}\")\n",
        "print(f\"Preprocessor saved to: {preprocessor_path}\")\n",
        "print(f\"Encoder saved to: {encoder_path}\")"
      ]
    },
    {
      "cell_type": "code",
      "execution_count": 20,
      "metadata": {
        "colab": {
          "base_uri": "https://localhost:8080/",
          "height": 999
        },
        "id": "b23AzLlkeZkh",
        "outputId": "ed1d9f91-562c-4989-9b38-4eef91f9013d"
      },
      "outputs": [
        {
          "data": {
            "image/png": "[encoded data removed]",
            "text/plain": [
              "<Figure size 1200x1000 with 2 Axes>"
            ]
          },
          "metadata": {},
          "output_type": "display_data"
        }
      ],
      "source": [
        "import seaborn as sns\n",
        "import matplotlib.pyplot as plt\n",
        "from sklearn.metrics import confusion_matrix\n",
        "\n",
        "# Generate the confusion matrix\n",
        "cm = confusion_matrix(Y_test_encoded, Y_pred_encoded)\n",
        "\n",
        "# For better visualization, normalize it to show percentages\n",
        "cm_normalized = cm.astype('float') / cm.sum(axis=1)[:, np.newaxis]\n",
        "\n",
        "# Create the plot\n",
        "plt.figure(figsize=(12, 10))\n",
        "sns.heatmap(\n",
        "    cm_normalized,\n",
        "    annot=False, # Set to True if you have few classes and want numbers displayed\n",
        "    cmap='viridis',\n",
        "    xticklabels=label_encoder.classes_,\n",
        "    yticklabels=label_encoder.classes_\n",
        ")\n",
        "plt.title('Normalized Confusion Matrix')\n",
        "plt.ylabel('True Label')\n",
        "plt.xlabel('Predicted Label')\n",
        "plt.show()"
      ]
    },
    {
      "cell_type": "code",
      "execution_count": 22,
      "metadata": {
        "colab": {
          "base_uri": "https://localhost:8080/"
        },
        "id": "r2LCnhmGbsd8",
        "outputId": "cd9f0379-014a-460e-9d95-450d50979527"
      },
      "outputs": [
        {
          "name": "stdout",
          "output_type": "stream",
          "text": [
            "Final DataFrame saved to: /content/drive/MyDrive/df_ml_ready_final.csv\n"
          ]
        }
      ],
      "source": [
        "# Save the final, feature-rich DataFrame\n",
        "df_ml_ready_path = '/content/drive/MyDrive/df_ml_ready_final.csv'\n",
        "df_ml_ready.to_csv(df_ml_ready_path, index=False)\n",
        "\n",
        "print(f\"Final DataFrame saved to: {df_ml_ready_path}\")"
      ]
    },
    {
      "cell_type": "markdown",
      "metadata": {
        "id": "Kv6tIX9FP-fQ"
      },
      "source": [
        "Feature Importance Analysis\n",
        "Rank\tFeature\tImportance\tInterpretation & Explainability\n",
        "1-6, 8-9\tSpecific Library Checkouts (cat__Event_Type_...)\t≈0.0078−0.0112\tAction-Based Prediction. The single strongest predictor isn't a location or a person's group, but the specific book they just checked out. The model has learned that checking out BK1277 is strongly associated with a specific next location (e.g., the EEE Lab or a specific study room).\n",
        "2\tDepartment (cat__department_BIO)\t0.010538\tGroup Behavior. The BIO (Biology) department is a highly predictive group. This likely means their activity patterns are very predictable (e.g., they strictly go from the main gate to the Biology Lab at fixed times), making this group's membership a powerful contextual feature.\n",
        "5\tTime Since Last Event (num__Time_Since_Last_Event)\t0.008598\tTemporal Context. This is your sequential reset button. High importance here confirms that the model relies on knowing how long a person has been inactive. A very long gap predicts a standard re-entry point (like HOSTEL_GATE).\n",
        "7\tCCTV Detection (cat__Event_Type_CCTV_Detection)\t0.008036\tEvent Signaling. This confirms that the act of simply being seen by a CCTV camera (not a swipe or connection) is a unique predictive event. The model learns: \"After a CCTV sighting at L\n",
        "t\n",
        "​\n",
        " , the next location L\n",
        "t+1\n",
        "​\n",
        "  tends to be X.\"\n",
        "10\tAvg Lab Attendance (num__Dept_Avg_Lab_Attendance)\t0.007799\tGroup Profile. This confirms that the departmental tendency to attend (or skip) lab bookings is a factor in predicting the next event."
      ]
    },
    {
      "cell_type": "markdown",
      "metadata": {
        "id": "tajxuIZDQCsU"
      },
      "source": [
        "Your model is successful because it is not limited to department. It uses a blend of the user's immediate actions (Book Checkout), long-term group behavior (Department, Attendance Rate), and temporal context (Time Since Last Event) to predict the next step. This makes the system robust for sparse data and provides highly detailed justifications."
      ]
    },
    {
      "cell_type": "code",
      "execution_count": null,
      "metadata": {
        "id": "SNPfLPGZlezT"
      },
      "outputs": [],
      "source": []
    }
  ],
  "metadata": {
    "colab": {
      "provenance": []
    },
    "kernelspec": {
      "display_name": "Python 3",
      "name": "python3"
    },
    "language_info": {
      "name": "python"
    }
  },
  "nbformat": 4,
  "nbformat_minor": 0
}
